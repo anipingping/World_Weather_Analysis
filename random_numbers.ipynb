{
 "cells": [
  {
   "cell_type": "code",
   "execution_count": 1,
   "id": "13699718-57ab-4563-ba10-eb3a5608a93e",
   "metadata": {},
   "outputs": [],
   "source": [
    "# Import the random module.\n",
    "import random"
   ]
  },
  {
   "cell_type": "code",
   "execution_count": 2,
   "id": "138f3383-bb03-4ac7-a0ec-90cdd5289be9",
   "metadata": {},
   "outputs": [
    {
     "data": {
      "text/plain": [
       "1"
      ]
     },
     "execution_count": 2,
     "metadata": {},
     "output_type": "execute_result"
    }
   ],
   "source": [
    "random.randint(-90, 90)"
   ]
  },
  {
   "cell_type": "code",
   "execution_count": 3,
   "id": "b26ce617-4631-4cbc-b0e5-2163290c74a0",
   "metadata": {},
   "outputs": [
    {
     "data": {
      "text/plain": [
       "-85.81510248564626"
      ]
     },
     "execution_count": 3,
     "metadata": {},
     "output_type": "execute_result"
    }
   ],
   "source": [
    "random_number = random.randint(-90, 89) + random.random()\n",
    "random_number"
   ]
  },
  {
   "cell_type": "code",
   "execution_count": 12,
   "id": "caa51636-23ed-4b71-ac6f-6dec9493c2ad",
   "metadata": {},
   "outputs": [
    {
     "data": {
      "text/plain": [
       "[-51.58428249711958,\n",
       " 69.80246358910235,\n",
       " 76.16026482197213,\n",
       " -86.30587186952854,\n",
       " -42.889015434315574,\n",
       " -57.78728615779383,\n",
       " -70.97058506263406,\n",
       " -24.784900786877675,\n",
       " 14.312614439743804,\n",
       " -73.2017598676928]"
      ]
     },
     "execution_count": 12,
     "metadata": {},
     "output_type": "execute_result"
    }
   ],
   "source": [
    "x = 1\n",
    "latitudes = []\n",
    "while x < 11:\n",
    "    random_lat = random.randint(-90, 89) + random.random()\n",
    "    latitudes.append(random_lat)\n",
    "    x += 1\n",
    "latitudes"
   ]
  },
  {
   "cell_type": "code",
   "execution_count": 13,
   "id": "144574ab-58cc-4bce-91e7-834ed917a8cd",
   "metadata": {},
   "outputs": [
    {
     "data": {
      "text/plain": [
       "10"
      ]
     },
     "execution_count": 13,
     "metadata": {},
     "output_type": "execute_result"
    }
   ],
   "source": [
    "random.randrange(-90, 90, step=1)"
   ]
  },
  {
   "cell_type": "code",
   "execution_count": 14,
   "id": "bbc1fe26-efdc-44e7-a281-bcf2164ee51e",
   "metadata": {},
   "outputs": [
    {
     "data": {
      "text/plain": [
       "48"
      ]
     },
     "execution_count": 14,
     "metadata": {},
     "output_type": "execute_result"
    }
   ],
   "source": [
    "random.randrange(-90, 90, step=3)"
   ]
  },
  {
   "cell_type": "code",
   "execution_count": 15,
   "id": "0a91a372-bfa1-4fb0-85d7-b5135186181c",
   "metadata": {},
   "outputs": [
    {
     "data": {
      "text/plain": [
       "57.615908910464924"
      ]
     },
     "execution_count": 15,
     "metadata": {},
     "output_type": "execute_result"
    }
   ],
   "source": [
    "random.uniform(-90, 90)"
   ]
  },
  {
   "cell_type": "code",
   "execution_count": 16,
   "id": "ecbb36f1-1d94-4be0-bf27-065af99105ca",
   "metadata": {},
   "outputs": [],
   "source": [
    "# Import the NumPy module.\n",
    "import numpy as np"
   ]
  },
  {
   "cell_type": "code",
   "execution_count": 17,
   "id": "959e5028-cb23-4309-91c5-91bb7465f9c2",
   "metadata": {},
   "outputs": [
    {
     "data": {
      "text/plain": [
       "15.625605363043817"
      ]
     },
     "execution_count": 17,
     "metadata": {},
     "output_type": "execute_result"
    }
   ],
   "source": [
    "np.random.uniform(-90.000, 90.000)"
   ]
  },
  {
   "cell_type": "code",
   "execution_count": 18,
   "id": "577877d8-68ef-48d0-a5fc-adcfe467851f",
   "metadata": {},
   "outputs": [
    {
     "data": {
      "text/plain": [
       "array([ 32.27050609,  33.72788814,  88.4981254 , -73.52605829,\n",
       "        70.25418085, -76.38478243, -15.26120451, -11.82040268,\n",
       "       -80.13138958,  76.35860047,  87.25607106, -60.7022513 ,\n",
       "       -32.73556151,  60.92538263, -22.29818384,  58.29199173,\n",
       "       -70.50087401,  63.22923862,  65.25729222, -48.32315534,\n",
       "        86.37475457,  -9.92384387,  29.26007494, -81.5652485 ,\n",
       "        62.70603409, -79.77119969,  35.34835804,  25.07022148,\n",
       "       -24.52622294, -65.98229851, -22.12845281,  56.43261054,\n",
       "       -87.96882021,  -3.55641106,  36.72957655,  31.93805957,\n",
       "       -82.94553882,  28.33372502,   5.71300163, -40.78434957,\n",
       "        60.87705213, -34.69900605, -17.84662605, -40.40435188,\n",
       "        13.10284567, -38.27718134,   0.52497909,  -7.38137049,\n",
       "        41.24214075, -27.80184206])"
      ]
     },
     "execution_count": 18,
     "metadata": {},
     "output_type": "execute_result"
    }
   ],
   "source": [
    "np.random.uniform(-90.000, 90.000, size=50)"
   ]
  },
  {
   "cell_type": "code",
   "execution_count": 19,
   "id": "59914638-bc03-4577-a961-e75ad16f8dc9",
   "metadata": {},
   "outputs": [],
   "source": [
    "# Import timeit.\n",
    "import timeit"
   ]
  },
  {
   "cell_type": "code",
   "execution_count": 20,
   "id": "cdf621ea-17b4-42f4-9443-8c81d1c42fb8",
   "metadata": {},
   "outputs": [
    {
     "name": "stdout",
     "output_type": "stream",
     "text": [
      "11.3 µs ± 195 ns per loop (mean ± std. dev. of 7 runs, 100,000 loops each)\n"
     ]
    }
   ],
   "source": [
    "%timeit np.random.uniform(-90.000, 90.000, size=1500)"
   ]
  },
  {
   "cell_type": "code",
   "execution_count": 22,
   "id": "ada248b8-ce44-4aa2-837d-616a2de54a75",
   "metadata": {},
   "outputs": [
    {
     "name": "stdout",
     "output_type": "stream",
     "text": [
      "1 ms ± 7.99 µs per loop (mean ± std. dev. of 7 runs, 1,000 loops each)\n"
     ]
    }
   ],
   "source": [
    "def latitudes(size):\n",
    "    latitudes = []\n",
    "    x = 0\n",
    "    while x < (size):\n",
    "        random_lat = random.randint(-90, 90) + random.random()\n",
    "        latitudes.append(random_lat)\n",
    "        x += 1\n",
    "    return latitudes\n",
    "# Call the function with 1500.\n",
    "%timeit latitudes(1500)"
   ]
  },
  {
   "cell_type": "code",
   "execution_count": 23,
   "id": "dbf38ad7-a5ad-4561-915a-e3b3b8885666",
   "metadata": {},
   "outputs": [
    {
     "name": "stdout",
     "output_type": "stream",
     "text": [
      "1 ms ± 4.35 µs per loop (mean ± std. dev. of 7 runs, 1,000 loops each)\n"
     ]
    }
   ],
   "source": [
    "def latitudes(size):\n",
    "    latitudes = []\n",
    "    x = 0\n",
    "    while x < (size):\n",
    "        random_lat = random.randint(-90, 90) + random.random()\n",
    "        latitudes.append(random_lat)\n",
    "        x += 1\n",
    "    return latitudes\n",
    "# Call the function with 1500.\n",
    "%timeit latitudes(1500)"
   ]
  }
 ],
 "metadata": {
  "kernelspec": {
   "display_name": "PythonData",
   "language": "python",
   "name": "pythondata"
  },
  "language_info": {
   "codemirror_mode": {
    "name": "ipython",
    "version": 3
   },
   "file_extension": ".py",
   "mimetype": "text/x-python",
   "name": "python",
   "nbconvert_exporter": "python",
   "pygments_lexer": "ipython3",
   "version": "3.9.12"
  }
 },
 "nbformat": 4,
 "nbformat_minor": 5
}
